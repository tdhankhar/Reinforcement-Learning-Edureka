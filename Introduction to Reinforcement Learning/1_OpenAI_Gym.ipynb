{
 "cells": [
  {
   "cell_type": "markdown",
   "metadata": {},
   "source": [
    "# OPENAI Gym Introduction\n",
    "\n",
    "In this demo, let us create an environment using OpenAIGym. Let us create a CartPole environment as described here (https://gym.openai.com/envs/CartPole-v0/)and manually play the game. In subsequent modules, we will take a look into algorithms that learns to play by itself.\n",
    "\n",
    "### CartPole Environment:\n",
    "\n",
    "A pole is attached by an un-actuated joint to a cart, which moves along a frictionless track. The system is controlled by applying a force of +1 or -1 to the cart. The pendulum starts upright, and the goal is to prevent it from falling over. A reward of +1 is provided for every timestep that the pole remains upright. The episode ends when the pole is more than 15 degrees from vertical, or the cart moves more than 2.4 units from the center."
   ]
  },
  {
   "cell_type": "code",
   "execution_count": 1,
   "metadata": {},
   "outputs": [],
   "source": [
    "#%matplotlib notebook\n",
    "%matplotlib inline\n",
    "import numpy as np\n",
    "import matplotlib.pyplot as plt\n",
    "\n",
    "#Build interactive GUIs for our notebook\n",
    "from ipywidgets import widgets\n",
    "\n",
    "from IPython.display import display"
   ]
  },
  {
   "cell_type": "code",
   "execution_count": 3,
   "metadata": {},
   "outputs": [],
   "source": [
    "#Render Outputs in Jupyter notebook\n",
    "import gym\n",
    "from matplotlib import animation\n",
    "from JSAnimation.IPython_display import display_animation"
   ]
  },
  {
   "cell_type": "markdown",
   "metadata": {},
   "source": [
    "## # Some helper function to let us interact with the environment"
   ]
  },
  {
   "cell_type": "code",
   "execution_count": 4,
   "metadata": {},
   "outputs": [],
   "source": [
    "# Function that defines what happens when you click one of the buttons\n",
    "frames = []\n",
    "def onclick(action):\n",
    "    global frames\n",
    "# Takes action at each step and returns four parameters \n",
    "    observation, reward, done, info = env.step(action)\n",
    "# render returns the current state of the environment, sends it in an rgb array and stores it in the frame  \n",
    "    frame = env.render(mode = 'rgb_array')\n",
    "    im.set_data(frame)\n",
    "    frames.append(frame)\n",
    "    if done:\n",
    "        env.reset()\n",
    "\n",
    "\n",
    "\n",
    "def handle_left_click(something):\n",
    "    \n",
    "    onclick(0)\n",
    "\n",
    "def handle_right_click(something):\n",
    "    \"\"\" Apply a force to the right of the cart\"\"\"\n",
    "    onclick(1)\n",
    "    \n",
    "def display_buttons():\n",
    "    \"\"\" Display the buttons you can use to apply a force to the cart \"\"\"\n",
    "    left = widgets.Button(description=\"Left\")\n",
    "    right = widgets.Button(description=\"Right\")\n",
    "    display(left, right)\n",
    "    \n",
    "    left.on_click(handle_left_click)\n",
    "    right.on_click(handle_right_click)"
   ]
  },
  {
   "cell_type": "markdown",
   "metadata": {},
   "source": [
    "Below we create an  environment and get the first frame from it. We also create couple of buttons for us to control the environment. You can press LEFT and RIGHT and the cartpole moves accordingly. Subsequent frames are stored and displayed below."
   ]
  },
  {
   "cell_type": "code",
   "execution_count": 5,
   "metadata": {},
   "outputs": [
    {
     "data": {
      "image/png": "[encoded data removed]",
      "text/plain": [
       "<Figure size 432x288 with 1 Axes>"
      ]
     },
     "metadata": {
      "needs_background": "light"
     },
     "output_type": "display_data"
    }
   ],
   "source": [
    "\"\"\"Create the environment and display the initial state\n",
    "   gym.make('CartPole-v0') --> Returns the CartPole Environment that is passed as a parameter\n",
    "\"\"\"\n",
    "env = gym.make('CartPole-v0')\n",
    "# Resets the environment and returns the initial observation\n",
    "observation = env.reset()\n",
    "# Returns the current state of the environment sent in an rgb array, and stores it in the first frame\n",
    "firstframe = env.render(mode = 'rgb_array')\n",
    "fig,ax = plt.subplots()\n",
    "im = ax.imshow(firstframe) "
   ]
  },
  {
   "cell_type": "code",
   "execution_count": 6,
   "metadata": {},
   "outputs": [
    {
     "data": {
      "application/vnd.jupyter.widget-view+json": {
       "model_id": "fbdf9b71ef7d4d0a963ff1dc57480308",
       "version_major": 2,
       "version_minor": 0
      },
      "text/plain": [
       "Button(description='Left', style=ButtonStyle())"
      ]
     },
     "metadata": {},
     "output_type": "display_data"
    },
    {
     "data": {
      "application/vnd.jupyter.widget-view+json": {
       "model_id": "414e9d335ca444c2bf88301052349f2f",
       "version_major": 2,
       "version_minor": 0
      },
      "text/plain": [
       "Button(description='Right', style=ButtonStyle())"
      ]
     },
     "metadata": {},
     "output_type": "display_data"
    },
    {
     "name": "stdout",
     "output_type": "stream",
     "text": [
      "[ 0.04204184 -0.21059127 -0.03169887  0.30531528] 1.0 False\n",
      "[ 0.03783002 -0.40524749 -0.02559257  0.58783503] 1.0 False\n",
      "[ 0.02972507 -0.60000186 -0.01383586  0.87234753] 1.0 False\n",
      "[ 0.01772503 -0.79493296  0.00361109  1.16064856] 1.0 False\n",
      "[ 0.00182637 -0.99010176  0.02682406  1.45446152] 1.0 False\n",
      "[-0.01797566 -0.79531922  0.05591329  1.17027814] 1.0 False\n",
      "[-0.03388205 -0.60096722  0.07931885  0.89563567] 1.0 False\n",
      "[-0.04590139 -0.40700515  0.09723156  0.62890261] 1.0 False\n",
      "[-0.05404149 -0.21336494  0.10980962  0.36835527] 1.0 False\n",
      "[-0.05830879 -0.01996064  0.11717672  0.11221532] 1.0 False\n",
      "[-0.05870801  0.17330433  0.11942103 -0.14132302] 1.0 False\n",
      "[-0.05524192  0.36653148  0.11659457 -0.39407306] 1.0 False\n",
      "[-0.04791129  0.55982264  0.10871311 -0.64784009] 1.0 False\n",
      "[-0.03671484  0.75327553  0.0957563  -0.90440764] 1.0 False\n",
      "[-0.02164933  0.94697931  0.07766815 -1.16552288] 1.0 False\n",
      "[-0.00270974  1.14100922  0.05435769 -1.43287886] 1.0 False\n",
      "[ 0.02011044  1.33541998  0.02570012 -1.70809098] 1.0 False\n",
      "[ 0.04681884  1.53023724 -0.0084617  -1.99266537] 1.0 False\n",
      "[ 0.07742359  1.33520488 -0.04831501 -1.70261502] 1.0 False\n",
      "[ 0.10412769  1.14067137 -0.08236731 -1.42535435] 1.0 False\n",
      "[ 0.12694111  0.94665837 -0.1108744  -1.1595101 ] 1.0 False\n",
      "[ 0.14587428  0.75314175 -0.1340646  -0.90354786] 1.0 False\n",
      "[ 0.16093712  0.56006546 -0.15213556 -0.65582923] 1.0 False\n",
      "[ 0.17213843  0.36735211 -0.16525214 -0.41465357] 1.0 False\n",
      "[ 0.17948547  0.17491066 -0.17354521 -0.17828716] 1.0 False\n",
      "[ 0.18298368 -0.01735796 -0.17711096  0.05501703] 1.0 False\n",
      "[ 0.18263652 -0.20955663 -0.17601061  0.28700633] 1.0 False\n",
      "[ 0.17844539 -0.40178894 -0.17027049  0.51941949] 1.0 False\n",
      "[ 0.17040961 -0.59415634 -0.1598821   0.75397985] 1.0 False\n",
      "[ 0.15852648 -0.78675534 -0.1448025   0.99238842] 1.0 False\n",
      "[ 0.14279138 -0.97967424 -0.12495473  1.23631495] 1.0 False\n",
      "[ 0.12319789 -1.1729889  -0.10022843  1.48738494] 1.0 False\n",
      "[ 0.09973811 -1.36675705 -0.07048074  1.74716063] 1.0 False\n",
      "[ 0.07240297 -1.56101078 -0.03553752  2.01711362] 1.0 False\n",
      "[ 0.04118276 -1.75574655  0.00480475  2.29858701] 1.0 False\n",
      "[ 0.00606783 -1.56066907  0.05077649  2.00738676] 1.0 False\n",
      "[-0.02514556 -1.36611121  0.09092423  1.73084798] 1.0 False\n",
      "[-0.05246778 -1.1721377   0.12554118  1.46778451] 1.0 False\n",
      "[-0.07591053 -0.97875601  0.15489688  1.21680705] 1.0 False\n",
      "[-0.09548565 -0.7859331   0.17923302  0.97639337] 1.0 False\n",
      "[-0.11120432 -0.59360836  0.19876088  0.74494044] 1.0 False\n",
      "[-0.12307648 -0.40170301  0.21365969  0.52080147] 1.0 True\n",
      "[-0.01242617  0.23920698  0.01468281 -0.28512098] 1.0 False\n",
      "[-0.00764203  0.43411648  0.00898039 -0.57313712] 1.0 False\n",
      "[ 0.0010403   0.62911138 -0.00248235 -0.86297747] 1.0 False\n",
      "[ 0.01362253  0.82426704 -0.0197419  -1.15643987] 1.0 False\n",
      "[ 0.03010787  1.01964071 -0.0428707  -1.45524702] 1.0 False\n",
      "[ 0.05050068  0.82507044 -0.07197564 -1.17625989] 1.0 False\n",
      "[ 0.06700209  0.63095355 -0.09550084 -0.90698102] 1.0 False\n",
      "[ 0.07962116  0.43724526 -0.11364046 -0.64577718] 1.0 False\n",
      "[ 0.08836607  0.24387488 -0.126556   -0.39093095] 1.0 False\n",
      "[ 0.09324356  0.05075491 -0.13437462 -0.14067594] 1.0 False\n",
      "[ 0.09425866 -0.14221219 -0.13718814  0.10677805] 1.0 False\n",
      "[ 0.09141442 -0.33512878 -0.13505258  0.35322718] 1.0 False\n",
      "[ 0.08471184 -0.52809776 -0.12798804  0.60046009] 1.0 False\n",
      "[ 0.07414989 -0.72121884 -0.11597883  0.85024648] 1.0 False\n",
      "[ 0.05972551 -0.91458451 -0.0989739   1.10432506] 1.0 False\n",
      "[ 0.04143382 -1.10827547 -0.0768874   1.36438879] 1.0 False\n",
      "[ 0.01926831 -1.3023548  -0.04959963  1.63206508] 1.0 False\n",
      "[-0.00677878 -1.49686044 -0.01695833  1.90888842] 1.0 False\n",
      "[-0.03671599 -1.30155972  0.02121944  1.61099396] 1.0 False\n",
      "[-0.06274719 -1.10669469  0.05343932  1.32500026] 1.0 False\n",
      "[-0.08488108 -0.91228678  0.07993933  1.04950836] 1.0 False\n",
      "[-0.10312682 -0.71831109  0.10092949  0.78295115] 1.0 False\n",
      "[-0.11749304 -0.52471036  0.11658852  0.52365084] 1.0 False\n",
      "[-0.12798725 -0.33140562  0.12706153  0.2698616 ] 1.0 False\n",
      "[-0.13461536 -0.13830426  0.13245877  0.01980022] 1.0 False\n",
      "[-0.13738144  0.05469391  0.13285477 -0.22833197] 1.0 False\n",
      "[-0.13628757  0.24769182  0.12828813 -0.47633322] 1.0 False\n",
      "[-0.13133373  0.4407911   0.11876147 -0.72598858] 1.0 False\n",
      "[-0.12251791  0.63408818  0.1042417  -0.97905802] 1.0 False\n",
      "[-0.10983614  0.82766991  0.08466053 -1.23726281] 1.0 False\n",
      "[-0.09328274  1.02160832  0.05991528 -1.50226804] 1.0 False\n",
      "[-0.07285058  0.82581236  0.02986992 -1.19149655] 1.0 False\n",
      "[-0.05633433  0.63031641  0.00603999 -0.88960298] 1.0 False\n",
      "[-0.043728    0.43511302 -0.01175207 -0.59502749] 1.0 False\n",
      "[-0.03502574  0.24015751 -0.02365262 -0.30606945] 1.0 False\n",
      "[-0.03022259  0.04538046 -0.02977401 -0.02093881] 1.0 False\n",
      "[-0.02931498 -0.14930213 -0.03019279  0.26220338] 1.0 False\n",
      "[-0.03230103 -0.34398038 -0.02494872  0.54521233] 1.0 False\n",
      "[-0.03918063 -0.53874305 -0.01404447  0.82993125] 1.0 False\n",
      "[-0.04995549 -0.73367023  0.00255415  1.11816425] 1.0 False\n",
      "[-0.0646289  -0.53858189  0.02491744  0.82628361] 1.0 False\n",
      "[-0.07540054 -0.34380939  0.04144311  0.54154052] 1.0 False\n",
      "[-0.08227672 -0.14929369  0.05227392  0.26219829] 1.0 False\n",
      "[-0.0852626   0.04504462  0.05751788 -0.01354946] 1.0 False\n",
      "[-0.08436171  0.23929654  0.0572469  -0.28754455] 1.0 False\n",
      "[-0.07957578  0.43355736  0.051496   -0.56163704] 1.0 False\n",
      "[-0.07090463  0.62792025  0.04026326 -0.83766176] 1.0 False\n",
      "[-0.05834622  0.82246988  0.02351003 -1.1174155 ] 1.0 False\n",
      "[-4.18968252e-02  1.01727555e+00  1.16171869e-03 -1.40263193e+00] 1.0 False\n",
      "[-0.02155131  1.21238305 -0.02689092 -1.69495144] 1.0 False\n",
      "[ 0.00269635  1.40780477 -0.06078995 -1.99588302] 1.0 False\n",
      "[ 0.03085244  1.21336889 -0.10070761 -1.72262917] 1.0 False\n",
      "[ 0.05511982  1.01953379 -0.13516019 -1.46290769] 1.0 False\n",
      "[ 0.0755105   0.82630209 -0.16441835 -1.21531985] 1.0 False\n",
      "[ 0.09203654  0.63363769 -0.18872474 -0.97834223] 1.0 False\n",
      "[ 0.10470929  0.44147821 -0.20829159 -0.75037719] 1.0 False\n",
      "[ 0.11353886  0.24974413 -0.22329913 -0.52978827] 1.0 True\n",
      "[ 0.04872267 -0.20019035 -0.01721959  0.28690617] 1.0 False\n",
      "[ 0.04471886 -0.39506256 -0.01148147  0.57410883] 1.0 False\n"
     ]
    }
   ],
   "source": [
    "# Show the buttons to control the cart\n",
    "display_buttons()\n",
    "# Function that defines what happens when you click one of the buttons\n",
    "frames = []\n",
    "def onclick(action):\n",
    "    global frames\n",
    "    observation, reward, done, info = env.step(action)\n",
    "    print(observation,reward,done)\n",
    "    frame = env.render(mode = 'rgb_array')\n",
    "    im.set_data(frame)\n",
    "    frames.append(frame)\n",
    "    if done:\n",
    "        env.reset()"
   ]
  },
  {
   "cell_type": "code",
   "execution_count": 7,
   "metadata": {},
   "outputs": [],
   "source": [
    "def display_frames_as_gif(frames, filename_gif = None):\n",
    "    \"\"\"\n",
    "    Displays a list of frames as a gif, with controls\n",
    "    \"\"\"\n",
    "    plt.figure(figsize=(frames[0].shape[1] / 72.0, frames[0].shape[0] / 72.0), dpi = 72)\n",
    "    patch = plt.imshow(frames[0])\n",
    "    plt.axis('off')\n",
    "\n",
    "    def animate(i):\n",
    "        patch.set_data(frames[i])\n",
    "\n",
    "    anim = animation.FuncAnimation(plt.gcf(), animate, frames = len(frames), interval=50)\n",
    "    if filename_gif: \n",
    "        anim.save(filename_gif, writer = 'imagemagick', fps=20)\n",
    "    display(display_animation(anim, default_mode='loop'))\n",
    "\n"
   ]
  },
  {
   "cell_type": "code",
   "execution_count": 1,
   "metadata": {},
   "outputs": [
    {
     "ename": "NameError",
     "evalue": "name 'display_frames_as_gif' is not defined",
     "output_type": "error",
     "traceback": [
      "\u001b[0;31m---------------------------------------------------------------------------\u001b[0m",
      "\u001b[0;31mNameError\u001b[0m                                 Traceback (most recent call last)",
      "\u001b[0;32m<ipython-input-1-4e419250d3aa>\u001b[0m in \u001b[0;36m<module>\u001b[0;34m\u001b[0m\n\u001b[0;32m----> 1\u001b[0;31m \u001b[0mdisplay_frames_as_gif\u001b[0m\u001b[0;34m(\u001b[0m\u001b[0mframes\u001b[0m\u001b[0;34m,\u001b[0m \u001b[0mfilename_gif\u001b[0m\u001b[0;34m=\u001b[0m\u001b[0;34m\"manualplay.gif\"\u001b[0m\u001b[0;34m)\u001b[0m\u001b[0;34m\u001b[0m\u001b[0;34m\u001b[0m\u001b[0m\n\u001b[0m",
      "\u001b[0;31mNameError\u001b[0m: name 'display_frames_as_gif' is not defined"
     ]
    }
   ],
   "source": [
    "display_frames_as_gif(frames, filename_gif=\"manualplay.gif\")"
   ]
  },
  {
   "cell_type": "code",
   "execution_count": null,
   "metadata": {},
   "outputs": [],
   "source": []
  },
  {
   "cell_type": "code",
   "execution_count": null,
   "metadata": {},
   "outputs": [],
   "source": []
  }
 ],
 "metadata": {
  "kernelspec": {
   "display_name": "Python 3",
   "language": "python",
   "name": "python3"
  },
  "language_info": {
   "codemirror_mode": {
    "name": "ipython",
    "version": 3
   },
   "file_extension": ".py",
   "mimetype": "text/x-python",
   "name": "python",
   "nbconvert_exporter": "python",
   "pygments_lexer": "ipython3",
   "version": "3.7.3"
  }
 },
 "nbformat": 4,
 "nbformat_minor": 2
}
